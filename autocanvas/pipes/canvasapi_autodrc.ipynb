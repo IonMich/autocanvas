{
 "cells": [
  {
   "cell_type": "markdown",
   "metadata": {},
   "source": [
    "# Imports"
   ]
  },
  {
   "cell_type": "code",
   "execution_count": null,
   "metadata": {},
   "outputs": [],
   "source": [
    "from canvasapi import Canvas # pip install canvasapi\n",
    "\n",
    "from autocanvas.config import INPUT_DIR\n",
    "\n",
    "from autocanvas.core.conversions import (\n",
    "    series_from_api_object, \n",
    "    df_from_api_list)\n",
    "\n",
    "from autocanvas.core.course_info import (\n",
    "    get_PHY_course, \n",
    "    get_assignment_group_from_name, \n",
    "    get_teaching_personel,\n",
    "    get_students_from_sections,)\n",
    "\n",
    "from autocanvas.core.assignments import get_assignment_collection\n",
    "\n",
    "from os.path import join\n",
    "import re\n",
    "import pandas as pd     # manipulate tabulated data\n",
    "from datetime import datetime \n",
    "\n",
    "API_URL = \"https://ufl.instructure.com/\"\n",
    "try:\n",
    "    from autocanvas.config import get_API_key\n",
    "    API_KEY = get_API_key()\n",
    "except FileNotFoundError as e:\n",
    "    print(e)\n",
    "    API_KEY = input(\"Asking for API token\")\n",
    "\n",
    "canvas = Canvas(API_URL, API_KEY)"
   ]
  },
  {
   "cell_type": "markdown",
   "metadata": {},
   "source": [
    "# Get regular quizzes"
   ]
  },
  {
   "cell_type": "code",
   "execution_count": null,
   "metadata": {},
   "outputs": [],
   "source": [
    "course = get_PHY_course(canvas, \n",
    "                        course_code=\"PHY2054\", \n",
    "                        semester=\"Spring 2021\")\n",
    "print(course.name)"
   ]
  },
  {
   "cell_type": "code",
   "execution_count": null,
   "metadata": {},
   "outputs": [],
   "source": [
    "df_regular_quizzes = get_assignment_collection(course,\n",
    "                             assignment_group_name=\"recitation quizzes\",\n",
    "                             name_pattern=\"^Quiz \\d+\",\n",
    "                             exclude_numbers=[0,10,13],\n",
    "                             add_identifier_numbers=True\n",
    "                            )\n",
    "df_regular_quizzes"
   ]
  },
  {
   "cell_type": "markdown",
   "metadata": {},
   "source": [
    "# Import DRC Info from spreadsheet\n",
    "\n",
    "Even if we eventually are able to get all this info directly from the registrar website , still it would be good to store the data in a similar spreadsheet, so that we download it only once.  \n",
    "\n",
    "**Update**: we now have this info. see `ufsoc.py`. Still need to write the code that produces the spreadsheet entries"
   ]
  },
  {
   "cell_type": "code",
   "execution_count": null,
   "metadata": {},
   "outputs": [],
   "source": [
    "excel_fname = \"quiz_times_spring2021.xlsx\"\n",
    "excel_path = join(INPUT_DIR,excel_fname)"
   ]
  },
  {
   "cell_type": "code",
   "execution_count": null,
   "metadata": {},
   "outputs": [],
   "source": [
    "df_drc = (pd.read_excel(excel_path, skiprows=65,\n",
    "                        skipfooter=9, convert_float=True,)\n",
    "                    .set_index(\"Student Name\")\n",
    "                    .filter(regex='^Quiz \\d+ (start|due) time$')\n",
    "                    .dropna(axis=1, how='any')\n",
    "                    .applymap(lambda x: str(x.round(\"min\")) )\n",
    "        )\n",
    "df_drc.head(100) # change to 100 in order to check all DRC students "
   ]
  },
  {
   "cell_type": "code",
   "execution_count": null,
   "metadata": {},
   "outputs": [],
   "source": [
    "type_list = ['student']\n",
    "\n",
    "users = list(course.get_users(enrollment_type=type_list))"
   ]
  },
  {
   "cell_type": "code",
   "execution_count": null,
   "metadata": {},
   "outputs": [],
   "source": [
    "# Get Students\n",
    "df_students = df_from_api_list(users)\n",
    "df_students.head(10)"
   ]
  },
  {
   "cell_type": "code",
   "execution_count": null,
   "metadata": {},
   "outputs": [],
   "source": [
    "df_full = pd.merge(left=df_drc, right=df_students, how=\"left\", \n",
    "                  left_index=True, right_on=\"name\", validate=\"1:1\")\n",
    "df_full"
   ]
  },
  {
   "cell_type": "code",
   "execution_count": null,
   "metadata": {},
   "outputs": [],
   "source": [
    "# TODO: eventually we would like for each existing override that all \n",
    "# its details are consistent with the current spreadsheet\n",
    "validate_existing_overrides = False\n",
    "\n",
    "for row_id, assignment in df_regular_quizzes.iterrows():\n",
    "    # Initial checks\n",
    "#     assert assignment.name==\"Test quiz\", \"Check everything before you disable safeguard\" \n",
    "    print(\"\\n\", assignment[\"name\"], \"\\n\")\n",
    "    assert len(assignment[\"name\"].split()) == 2, \"Expecting format `Quiz/Exam ###`\"\n",
    "    \n",
    "    quiz_number = assignment[\"identifier_number\"]\n",
    "    column_start = \"Quiz {} start time\".format(quiz_number)\n",
    "    column_due = \"Quiz {} due time\".format(quiz_number)\n",
    "    assignment_object = assignment[\"object\"]\n",
    "    \n",
    "    for student_id, student in df_full.iterrows():\n",
    "        # the API accepts both the date format in excel and datetime object\n",
    "        datetime_start = datetime.fromisoformat(student[column_start])\n",
    "        datetime_due = datetime.fromisoformat(student[column_due])\n",
    "        now = datetime.now()\n",
    "        # making sure that the assignment is in the future\n",
    "        # TODO: make it robust over timezones\n",
    "        if datetime_start < now:\n",
    "            print(\"Skipping student: {}. Requested start time ({}) is in the past.\"\n",
    "                  .format(student[\"name\"],\n",
    "                          datetime_start.isoformat()))\n",
    "            continue\n",
    "        try:\n",
    "            assignment_object.create_override(\n",
    "                assignment_override={\n",
    "                \"student_ids\":[student_id],\n",
    "                \"title\":\"1 Student\",\n",
    "                \"due_at\":datetime_due,\n",
    "                \"unlock_at\":datetime_start,\n",
    "                \"lock_at\":datetime_due\n",
    "                })\n",
    "            print(student[\"name\"])\n",
    "        except Exception as e:\n",
    "            if '\"type\":\"taken\"' in str(e):\n",
    "                print(\"Skipping Student: {}. Override already present.\"\n",
    "                      .format(student[\"name\"]))\n",
    "            else:\n",
    "                print(e)"
   ]
  }
 ],
 "metadata": {
  "kernelspec": {
   "display_name": "pycanvas",
   "language": "python",
   "name": "pycanvas"
  },
  "language_info": {
   "codemirror_mode": {
    "name": "ipython",
    "version": 3
   },
   "file_extension": ".py",
   "mimetype": "text/x-python",
   "name": "python",
   "nbconvert_exporter": "python",
   "pygments_lexer": "ipython3",
   "version": "3.9.2"
  }
 },
 "nbformat": 4,
 "nbformat_minor": 4
}
