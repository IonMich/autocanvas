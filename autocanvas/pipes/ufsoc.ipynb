{
 "cells": [
  {
   "cell_type": "markdown",
   "metadata": {},
   "source": [
    "# Imports"
   ]
  },
  {
   "cell_type": "code",
   "execution_count": null,
   "metadata": {},
   "outputs": [],
   "source": [
    "from os.path import join\n",
    "from autocanvas.pipes.ufsoc import (get_sections_from_ufsoc, \n",
    "                                    store_section_ta_to_csv)\n",
    "from autocanvas.config import INPUT_DIR\n",
    "from autocanvas.core import Periods, day_abbrs\n",
    "\n",
    "import pandas as pd\n",
    "import datetime\n",
    "pd.set_option('display.max_columns', 500)"
   ]
  },
  {
   "cell_type": "markdown",
   "metadata": {
    "heading_collapsed": "true"
   },
   "source": [
    "# Tests"
   ]
  },
  {
   "cell_type": "code",
   "execution_count": null,
   "metadata": {},
   "outputs": [],
   "source": [
    "df = get_sections_from_ufsoc(semester=\"Fall 2020\",\n",
    "                             course_code=\"PHY2054\",\n",
    "                             course_title=\"Physics 2\",\n",
    "                             instructor=\"Weatherford\",\n",
    "                             department=\"Physics\",\n",
    "#                             headless=False\n",
    "                            )\n",
    "df"
   ]
  },
  {
   "cell_type": "markdown",
   "metadata": {},
   "source": [
    "# UF Schedule of courses"
   ]
  },
  {
   "cell_type": "markdown",
   "metadata": {},
   "source": [
    "ChromeDriver and Selenium need to be installed and be compatible with the installed Chrome/Chromium version. To decide on the version of `chromedriver`, check first the Chrome version. After downloading the appropriate version of `chromedriver`, I prefer to put the `chromedriver` executable in `/usr/local/share`. For selenium, just use `pip`."
   ]
  },
  {
   "cell_type": "code",
   "execution_count": null,
   "metadata": {},
   "outputs": [],
   "source": [
    "course_season = \"Fall\"\n",
    "year = \"2021\"\n",
    "instructor_last_name = \"Yelton\"\n",
    "course_code = \"PHY2048\"\n",
    "\n",
    "semester = course_season + \" \" + year\n",
    "query_args = dict(\n",
    "    semester=semester,\n",
    "    course_code=course_code,\n",
    "    course_title=\"\",\n",
    "    instructor=instructor_last_name,\n",
    "    department=\"Physics\",\n",
    ")\n",
    "# the stored output of this function will be used as \n",
    "# input for other routines\n",
    "identifier = (course_code + \"_\" + course_season + year).lower()\n",
    "print(identifier)\n",
    "df_sections = store_section_ta_to_csv(output_dir=INPUT_DIR, \n",
    "                        identifier=identifier, \n",
    "                        headless=True,\n",
    "                        **query_args)\n",
    "df_sections"
   ]
  },
  {
   "cell_type": "code",
   "execution_count": null,
   "metadata": {},
   "outputs": [],
   "source": [
    "# ids = driver.find_elements_by_xpath('//*[@id]')\n",
    "# for ii in ids:\n",
    "#     #print ii.tag_name\n",
    "#     print(ii.get_attribute('id'))"
   ]
  },
  {
   "cell_type": "markdown",
   "metadata": {},
   "source": [
    "# Quiz Times Pipeline"
   ]
  },
  {
   "cell_type": "code",
   "execution_count": null,
   "metadata": {},
   "outputs": [],
   "source": [
    "date_of_first_monday = pd.Timestamp(\"Aug 23 2021\")\n",
    "\n",
    "quiz_to_week = {\n",
    "    2:4,\n",
    "    3:5,\n",
    "    4:6,\n",
    "    5:7,\n",
    "    6:8,\n",
    "    7:9,\n",
    "    8:10,\n",
    "    9:11,\n",
    "    10:13,\n",
    "    11:14,\n",
    "    12:16,\n",
    "}\n",
    "\n",
    "quiz_day = {\n",
    "    \"M\":\"M\",\n",
    "    \"T\":\"T\",\n",
    "}\n",
    "\n",
    "# quiz_day = {\n",
    "#     \"MW\":\"M\",\n",
    "#     \"TR\":\"T\",\n",
    "#     \"WF\":\"W\"\n",
    "# }\n",
    "\n",
    "# how many hh:mm:ss after the start of the recitation session does the quiz start\n",
    "quiz_time_offset_from_start = \"00:28:00\"\n",
    "quiz_availability_window = \"00:32:00\""
   ]
  },
  {
   "cell_type": "code",
   "execution_count": null,
   "metadata": {},
   "outputs": [],
   "source": [
    "df = df_sections[\"meeting_2\"].str.split('|', expand=True)\n",
    "df.columns = [\"Days\", \"Period\"]\n",
    "\n",
    "df[\"Days\"] = (df[\"Days\"]\n",
    "              .str.replace(',', '')             \n",
    "              .str.strip()\n",
    "             )\n",
    "\n",
    "df[\"Period\"] = df[\"Period\"].str.extract('(\\d+)')\n",
    "df[\"dayperiod\"] = df.agg(' '.join, axis=1)\n",
    "df[\"Period\"] = df[\"Period\"].astype(int)\n",
    "\n",
    "df = pd.merge(left=df_sections,\n",
    "              right=df, \n",
    "              left_index=True,\n",
    "              right_index=True)\n",
    "\n",
    "df_periods = Periods.from_season(course_season).get_dataframe()\n",
    "\n",
    "df[\"discussion_start_time\"] = (df[\"Period\"]\n",
    "                               .map(lambda item:\n",
    "                                    df_periods[\"start_times\"][item])\n",
    "                              )  \n",
    "\n",
    "df[\"discussion_end_time\"] = (df[\"Period\"]\n",
    "                             .map(lambda item:\n",
    "                                  df_periods[\"end_times\"][item])\n",
    "                            )\n",
    "\n",
    "df[\"quiz_day\"] = df[\"Days\"].map(quiz_day)\n",
    "\n",
    "for quiz_number, week_number in quiz_to_week.items():\n",
    "    column_from = \"Quiz {} start time\".format(quiz_number)\n",
    "    column_until = \"Quiz {} due time\".format(quiz_number)\n",
    "    # add 7 days to the date for each week past Week 1\n",
    "    # and 1 day for each day after Monday\n",
    "    quiz_date = (date_of_first_monday \n",
    "                 + (week_number-1) * pd.to_timedelta(\"7D\") \n",
    "                 + pd.to_timedelta(df[\"quiz_day\"]\n",
    "                                   .map(lambda item:\n",
    "                                        \"{}D\".format(day_abbrs.index(item))\n",
    "                                       )\n",
    "                                  )\n",
    "                ).astype(str)\n",
    "    \n",
    "    # combine date and wall-time\n",
    "    discussion_datetime_start = pd.to_datetime(quiz_date \\\n",
    "                                + \" \" \\\n",
    "                                + df[\"discussion_start_time\"].astype(str)\n",
    "                                )\n",
    "    # add offset between discussion session start times and quiz start times  \n",
    "    df[column_from] = discussion_datetime_start + \\\n",
    "                        pd.to_timedelta(quiz_time_offset_from_start)\n",
    "    df[column_until] = df[column_from] + \\\n",
    "                        pd.to_timedelta(quiz_availability_window)\n",
    "\n",
    "output_path = join(INPUT_DIR, \"sections_\"+identifier+\".xlsx\")\n",
    "df.to_excel(output_path, index=False)\n",
    "    \n",
    "df"
   ]
  },
  {
   "cell_type": "code",
   "execution_count": null,
   "metadata": {},
   "outputs": [],
   "source": []
  }
 ],
 "metadata": {
  "kernelspec": {
   "display_name": "pycanvas",
   "language": "python",
   "name": "pycanvas"
  },
  "language_info": {
   "codemirror_mode": {
    "name": "ipython",
    "version": 3
   },
   "file_extension": ".py",
   "mimetype": "text/x-python",
   "name": "python",
   "nbconvert_exporter": "python",
   "pygments_lexer": "ipython3",
   "version": "3.9.2"
  }
 },
 "nbformat": 4,
 "nbformat_minor": 4
}
