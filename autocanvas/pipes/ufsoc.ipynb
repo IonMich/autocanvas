{
 "cells": [
  {
   "cell_type": "markdown",
   "metadata": {},
   "source": [
    "# Imports"
   ]
  },
  {
   "cell_type": "code",
   "execution_count": null,
   "metadata": {},
   "outputs": [],
   "source": [
    "from autocanvas.pipes.ufsoc import (get_sections_from_ufsoc, \n",
    "                                    store_section_ta_to_csv)\n",
    "import pandas as pd\n",
    "pd.set_option('display.max_columns', 500)"
   ]
  },
  {
   "cell_type": "markdown",
   "metadata": {
    "heading_collapsed": "true"
   },
   "source": [
    "# Tests"
   ]
  },
  {
   "cell_type": "code",
   "execution_count": null,
   "metadata": {},
   "outputs": [],
   "source": [
    "df = get_sections_from_ufsoc(semester=\"Fall 2020\",\n",
    "                             course_code=\"PHY2054\",\n",
    "                             course_title=\"Physics 2\",\n",
    "                             instructor=\"Weatherford\",\n",
    "                             department=\"Physics\",\n",
    "#                             headless=False\n",
    "                            )\n",
    "df"
   ]
  },
  {
   "cell_type": "markdown",
   "metadata": {},
   "source": [
    "# UF Schedule of courses"
   ]
  },
  {
   "cell_type": "code",
   "execution_count": null,
   "metadata": {},
   "outputs": [],
   "source": [
    "query_args = dict(\n",
    "    semester=\"Spring 2021\",\n",
    "    course_code=\"PHY2054\",\n",
    "    course_title=\"Physics 2\",\n",
    "    instructor=\"Avery\",\n",
    "    department=\"Physics\",\n",
    ")\n",
    "# the stored output of this function will be used as \n",
    "# input for other routines\n",
    "input_dir = \"~/repos/autocanvas/input/\"\n",
    "store_section_ta_to_csv(output_dir=input_dir, \n",
    "                        identifier=\"phy2054_spring2021\", \n",
    "                        **query_args)"
   ]
  },
  {
   "cell_type": "code",
   "execution_count": null,
   "metadata": {},
   "outputs": [],
   "source": [
    "# ids = driver.find_elements_by_xpath('//*[@id]')\n",
    "# for ii in ids:\n",
    "#     #print ii.tag_name\n",
    "#     print(ii.get_attribute('id'))"
   ]
  }
 ],
 "metadata": {
  "kernelspec": {
   "display_name": "pycanvas",
   "language": "python",
   "name": "pycanvas"
  },
  "language_info": {
   "codemirror_mode": {
    "name": "ipython",
    "version": 3
   },
   "file_extension": ".py",
   "mimetype": "text/x-python",
   "name": "python",
   "nbconvert_exporter": "python",
   "pygments_lexer": "ipython3",
   "version": "3.9.2"
  }
 },
 "nbformat": 4,
 "nbformat_minor": 4
}
