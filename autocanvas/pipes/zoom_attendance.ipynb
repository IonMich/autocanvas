{
 "cells": [
  {
   "cell_type": "code",
   "execution_count": null,
   "metadata": {},
   "outputs": [],
   "source": [
    "from canvasapi import Canvas # pip install canvasapi\n",
    "\n",
    "from autocanvas.config import INPUT_DIR\n",
    "\n",
    "from autocanvas.core.conversions import (\n",
    "    series_from_api_object, \n",
    "    df_from_api_list)\n",
    "\n",
    "from autocanvas.core.course_info import (\n",
    "    get_PHY_course, \n",
    "    get_assignment_group_from_name, \n",
    "    get_teaching_personel,\n",
    "    get_sections,\n",
    "    get_students_from_sections,)\n",
    "\n",
    "from autocanvas.core.assignments import get_assignment_collection\n",
    "\n",
    "from os.path import join\n",
    "import re\n",
    "import pandas as pd     # manipulate tabulated data\n",
    "pd.set_option('display.max_columns', 500)\n",
    "from datetime import datetime \n",
    "\n",
    "\n",
    "API_URL = \"https://ufl.instructure.com/\"\n",
    "try:\n",
    "    from autocanvas.config import get_API_key\n",
    "    API_KEY = get_API_key()\n",
    "except FileNotFoundError as e:\n",
    "    print(e)\n",
    "    API_KEY = input(\"Asking for API token\")\n",
    "\n",
    "canvas = Canvas(API_URL, API_KEY)"
   ]
  },
  {
   "cell_type": "code",
   "execution_count": null,
   "metadata": {},
   "outputs": [],
   "source": [
    "course = get_PHY_course(canvas, \n",
    "                        course_code=\"PHY2053\", \n",
    "                        semester=\"Summer 2021\")\n",
    "print(course.name)"
   ]
  },
  {
   "cell_type": "code",
   "execution_count": null,
   "metadata": {},
   "outputs": [],
   "source": [
    "df_TAs, df_teachers = get_teaching_personel(course, add_first_name=True, \n",
    "                          groups=[\"ta\", \"teacher\"])\n",
    "\n",
    "file_name = \"section_ta_phy2053_summer2021.csv\"\n",
    "file_path = join(INPUT_DIR, file_name)\n",
    "\n",
    "df_students, df_sections = get_students_from_sections(\n",
    "                                course, \n",
    "                                section_ta_csv=file_path)"
   ]
  },
  {
   "cell_type": "code",
   "execution_count": null,
   "metadata": {},
   "outputs": [],
   "source": [
    "df_students"
   ]
  },
  {
   "cell_type": "markdown",
   "metadata": {},
   "source": [
    "# Get student Emails"
   ]
  },
  {
   "cell_type": "code",
   "execution_count": null,
   "metadata": {},
   "outputs": [],
   "source": [
    "import aiohttp\n",
    "import asyncio\n",
    "async def gather_emails():\n",
    "    async def get_user_emails(user_id):\n",
    "        async with aiohttp.ClientSession() as session:\n",
    "            async with session.get(API_URL+\"api/v1/\"+\"users/{}/profile/\".format(user_id),\n",
    "                                      headers={'Authorization': 'Bearer {}'.format(API_KEY)}) as resp:\n",
    "                if resp.status==200:\n",
    "                    all_user_emails[user_id] = await resp.json()\n",
    "                else:\n",
    "                    await resp.text()\n",
    "                    print(resp.status)\n",
    "    # need to deal with high watermark:\n",
    "    # https://community.canvaslms.com/t5/Developers-Group/API-Rate-Limiting/ba-p/255845\n",
    "    # suggestion of groups of 30 every 0.250 seconds:\n",
    "    # https://community.canvaslms.com/t5/Developers-Group/API-Rate-Limiting/m-p/211140\n",
    "    rate_limit = 30\n",
    "    all_user_emails = {}\n",
    "    len_students = len(df_students)\n",
    "    bunchstart = 0\n",
    "    while bunchstart < len_students:\n",
    "        print(bunchstart)\n",
    "        coros = [get_user_emails(user_id) for user_id in df_students.id[bunchstart:bunchstart+rate_limit]]\n",
    "        await asyncio.gather(*coros)\n",
    "        await asyncio.sleep(0.250)\n",
    "        bunchstart += rate_limit \n",
    "        \n",
    "    return all_user_emails\n",
    "\n",
    "all_user_emails = await gather_emails()"
   ]
  },
  {
   "cell_type": "code",
   "execution_count": null,
   "metadata": {},
   "outputs": [],
   "source": [
    "df_emails = (pd.DataFrame(all_user_emails)\n",
    "             .T\n",
    "             [[\"name\", \"login_id\", \"id\"]]\n",
    "             .set_index(\"name\")\n",
    "             .rename(columns={\"login_id\":\"email\"})\n",
    "            )\n",
    "df_emails"
   ]
  },
  {
   "cell_type": "code",
   "execution_count": null,
   "metadata": {},
   "outputs": [],
   "source": [
    "df_students = pd.merge(df_emails, df_students, \n",
    "                         how=\"inner\", \n",
    "                         left_on=\"id\",\n",
    "                         right_on=\"id\",\n",
    "                        validate=\"1:1\")\n",
    "df_students"
   ]
  },
  {
   "cell_type": "markdown",
   "metadata": {},
   "source": [
    "# Select Week"
   ]
  },
  {
   "cell_type": "code",
   "execution_count": null,
   "metadata": {},
   "outputs": [],
   "source": [
    "week_number = 3\n",
    "class_number = 18215\n",
    "min_attendance = {\n",
    "    \"T\":20, \n",
    "    \"R\":50\n",
    "}"
   ]
  },
  {
   "cell_type": "code",
   "execution_count": null,
   "metadata": {},
   "outputs": [],
   "source": [
    "df_all_students = (df_students[df_students[\"class_number\"]==class_number]\n",
    "                     [[\"class_number\", \"name\", \"sortable_name\",\"email\"]]\n",
    "                  ).set_index(\"name\").copy()\n",
    "df_all_students"
   ]
  },
  {
   "cell_type": "markdown",
   "metadata": {},
   "source": [
    "# Using Student Emails"
   ]
  },
  {
   "cell_type": "code",
   "execution_count": null,
   "metadata": {},
   "outputs": [],
   "source": [
    "df_all_students = (df_students[df_students[\"class_number\"]==class_number]\n",
    "                     [[\"class_number\", \"name\", \"sortable_name\",\"email\"]]\n",
    "                  ).set_index(\"name\").copy()\n",
    "df_all_students[\"is_member\"] = 1\n",
    "attended_external = {}\n",
    "for day in min_attendance.keys():\n",
    "    fname = \"week_{}_section_{}_{}.csv\".format(week_number, \n",
    "                                                  class_number, \n",
    "                                                  day)\n",
    "    excel_path = join(INPUT_DIR, fname)\n",
    "    df_participants = (pd.read_csv(excel_path, \n",
    "                            skiprows=3,\n",
    "                            skipfooter=0,\n",
    "                            engine=\"python\")\n",
    "                       .set_index(\"User Email\")\n",
    "               )\n",
    "    len_participants = len(df_participants)\n",
    "#     print(df_participants.columns)\n",
    "    df_session_info = (pd.read_csv(excel_path, \n",
    "                                   engine=\"python\",\n",
    "                                   skipfooter=len_participants+1)\n",
    "        )\n",
    "    points_col = \"points_{}\".format(day)\n",
    "    df_participants[points_col] = (df_participants.filter(regex=\".*Duration \\(Minutes\\)\", axis=1)\n",
    "                                    > min_attendance[day]\n",
    "                                )*1\n",
    "    # return indices of self not in other\n",
    "    attended_external[day] = (df_participants[points_col].index\n",
    "                      .difference(df_all_students.set_index(\"email\").index))\n",
    "    for item in  attended_external[day]:\n",
    "        print(item, df_participants[points_col][item])\n",
    "    df_all_students = pd.merge(df_all_students, df_participants[points_col],\n",
    "             how=\"left\", left_on=\"email\", right_index=True)\n",
    "#     print(df_all_students[\"email\"])\n",
    "#     print(df_all_students[\"email\"].compare(df_participants.index))\n",
    "points_columns = [\"points_{}\".format(day) \n",
    "                  for day in min_attendance.keys()]\n",
    "df_all_students[\"total_points\"] = df_all_students[points_columns].sum(axis=1)\n",
    "\n",
    "# we want case-insensitive sorting\n",
    "total_from_emails = df_all_students.iloc[df_all_students.sortable_name\n",
    "                     .str.lower().argsort()][\"total_points\"]\n",
    "\n",
    "print(attended_external)\n",
    "total_from_emails\n"
   ]
  },
  {
   "cell_type": "markdown",
   "metadata": {},
   "source": [
    "# (OLD) Using Student Names \n",
    "\n",
    "This proved to be error-prone, because some students do not have the same name in Zoom and in Canvas"
   ]
  },
  {
   "cell_type": "code",
   "execution_count": null,
   "metadata": {},
   "outputs": [],
   "source": [
    "df_all_students = (df_students[df_students[\"class_number\"]==class_number]\n",
    "                     [[\"class_number\", \"name\", \"sortable_name\",\"email\"]]\n",
    "                  ).set_index(\"name\").copy()\n",
    "for day in min_attendance.keys():\n",
    "    fname = \"week_{}_section_{}_{}.csv\".format(week_number, \n",
    "                                                  class_number, \n",
    "                                                  day)\n",
    "    excel_path = join(INPUT_DIR, fname)\n",
    "    df_participants = (pd.read_csv(excel_path, \n",
    "                            skiprows=3,\n",
    "                            skipfooter=0,\n",
    "                            engine=\"python\")\n",
    "                       .set_index(\"Name (Original Name)\")\n",
    "               )\n",
    "    len_participants = len(df_participants)\n",
    "    df_session_info = (pd.read_csv(excel_path, \n",
    "                                   engine=\"python\",\n",
    "                                   skipfooter=len_participants+1)\n",
    "        )\n",
    "    points_col = \"points_{}\".format(day)\n",
    "    \n",
    "    df_participants[points_col] = (df_participants.filter(regex=\".*Duration \\(Minutes\\)\", axis=1)\n",
    "                                    > min_attendance[day]\n",
    "                                )*1\n",
    "    df_all_students = pd.merge(df_all_students, df_participants[points_col],\n",
    "             how=\"left\", left_index=True, right_index=True)\n",
    "points_columns = [\"points_{}\".format(day) \n",
    "                  for day in min_attendance.keys()]\n",
    "df_all_students[\"total_points\"] = df_all_students[points_columns].sum(axis=1)\n",
    "\n",
    "# we want case insensitive sorting\n",
    "total_from_names = df_all_students.iloc[df_all_students.sortable_name\n",
    "                                         .str.lower().argsort()][\"total_points\"]\n",
    "total_from_names"
   ]
  },
  {
   "cell_type": "code",
   "execution_count": null,
   "metadata": {},
   "outputs": [],
   "source": [
    "total_from_emails.compare(total_from_names)"
   ]
  }
 ],
 "metadata": {
  "kernelspec": {
   "display_name": "autocanvas",
   "language": "python",
   "name": "autocanvas"
  },
  "language_info": {
   "codemirror_mode": {
    "name": "ipython",
    "version": 3
   },
   "file_extension": ".py",
   "mimetype": "text/x-python",
   "name": "python",
   "nbconvert_exporter": "python",
   "pygments_lexer": "ipython3",
   "version": "3.9.4"
  }
 },
 "nbformat": 4,
 "nbformat_minor": 4
}
